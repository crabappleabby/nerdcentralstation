{
 "cells": [
  {
   "cell_type": "code",
   "execution_count": null,
   "id": "b258db47-1fd0-4841-81f9-2ddaecdbb000",
   "metadata": {},
   "outputs": [],
   "source": [
    "import spotipy\n",
    "from spotipy.oauth2 import SpotifyClientCredentials"
   ]
  },
  {
   "cell_type": "code",
   "execution_count": null,
   "id": "5647bac0-40d8-4d5d-9218-070cfe57ad8b",
   "metadata": {},
   "outputs": [],
   "source": [
    "SPOTIPY_CLIENT_ID='93753a107c744d4e9ddd0e73b6d36f09'\n",
    "SPOTIPY_CLIENT_SECRET='72f95c914c1247a885db84711f9c5430'"
   ]
  },
  {
   "cell_type": "code",
   "execution_count": null,
   "id": "f55fa6df-9ba8-4e55-827a-0d5efc24625e",
   "metadata": {},
   "outputs": [],
   "source": [
    "auth_manager = SpotifyClientCredentials(client_id=SPOTIPY_CLIENT_ID, client_secret=SPOTIPY_CLIENT_SECRET)\n",
    "sp = spotipy.Spotify(auth_manager=auth_manager)"
   ]
  },
  {
   "cell_type": "code",
   "execution_count": null,
   "id": "0a993d7a-9c68-47ec-a0c6-a66e37efe3de",
   "metadata": {},
   "outputs": [],
   "source": [
    "sp.me"
   ]
  },
  {
   "cell_type": "markdown",
   "id": "a8408990-484f-4388-b12f-1daa57657c4b",
   "metadata": {},
   "source": [
    "Searching Albums"
   ]
  },
  {
   "cell_type": "code",
   "execution_count": null,
   "id": "9a843b5e-1bbb-4706-ac30-5d7a5b6f0b4f",
   "metadata": {},
   "outputs": [],
   "source": [
    "albums = sp.search(q='album:'+'shape',type='album', limit=20)"
   ]
  },
  {
   "cell_type": "code",
   "execution_count": null,
   "id": "e426663c-b84b-4e79-8c17-fdfa4a695eea",
   "metadata": {},
   "outputs": [],
   "source": [
    "albums"
   ]
  },
  {
   "cell_type": "code",
   "execution_count": null,
   "id": "350bf1ea-47dd-4ff2-8304-103d880bccd4",
   "metadata": {},
   "outputs": [],
   "source": [
    "len(albums['albums'])"
   ]
  },
  {
   "cell_type": "code",
   "execution_count": null,
   "id": "e568d22b-2e06-4cc7-9fa0-b86f41a6b3d7",
   "metadata": {},
   "outputs": [],
   "source": [
    "len(albums['albums']['items'])"
   ]
  },
  {
   "cell_type": "code",
   "execution_count": null,
   "id": "ec807b4c-8ea4-4d15-90b5-29dadecfb17d",
   "metadata": {},
   "outputs": [],
   "source": [
    "albums['albums']['items'][0]"
   ]
  },
  {
   "cell_type": "code",
   "execution_count": null,
   "id": "df7490d5-4a28-4017-a5b2-3b31fb44b26e",
   "metadata": {},
   "outputs": [],
   "source": [
    "albums_list = albums['albums']['items']\n",
    "if len(albums_list) > 0:\n",
    "    for album in albums_list:\n",
    "        print(album['name'] + \" - By - \" + album['artists'][0]['name'])\n",
    "        print(\"Album ID: \" + album['id'] + \" / Artist ID - \" + album['artists'][0]['id'])\n",
    "        print(\"------\")"
   ]
  },
  {
   "cell_type": "code",
   "execution_count": null,
   "id": "4449a691-1291-461b-a451-f2d8c6b56b76",
   "metadata": {},
   "outputs": [],
   "source": [
    "radiohead_id = '4Z8W4fKeB5YxbusRsdQVPb'"
   ]
  },
  {
   "cell_type": "code",
   "execution_count": null,
   "id": "95bd9177-9ed0-4f58-9362-64c6c2588631",
   "metadata": {},
   "outputs": [],
   "source": [
    "def discography(artist_id):\n",
    "    artist_uri = 'spotify:artist:' + artist_id\n",
    "    results = sp.artist_albums(artist_uri, album_type='album', limit=20)\n",
    "    albums = results['items']\n",
    "    while results['next']:\n",
    "        results = sp.next(results)\n",
    "        albums.extend(results['items'])\n",
    "\n",
    "    albums[0]['artists'][0]['name']\n",
    "    for album in albums:\n",
    "        print(album['name'] + \" (Singer: \" + album['artists'][0]['name'] + \" )\")"
   ]
  },
  {
   "cell_type": "code",
   "execution_count": null,
   "id": "4a1fd260-0500-4a84-9b85-a3ebf7d1be3e",
   "metadata": {},
   "outputs": [],
   "source": [
    "discography(radiohead_id)"
   ]
  },
  {
   "cell_type": "code",
   "execution_count": null,
   "id": "ca613723-51d2-46a8-b0fb-565661c3ecbc",
   "metadata": {},
   "outputs": [],
   "source": [
    "indigo = '3ir2pF2mkiEWqyPenKTh5e'"
   ]
  },
  {
   "cell_type": "code",
   "execution_count": null,
   "id": "efc32609-9d9a-4281-b109-7a908a4050cf",
   "metadata": {},
   "outputs": [],
   "source": [
    "discography(indigo)"
   ]
  },
  {
   "cell_type": "code",
   "execution_count": null,
   "id": "f2e04d87-1ca4-4e55-9296-93ce3a693d9d",
   "metadata": {},
   "outputs": [],
   "source": [
    "perfume = '2ueoLVCXQ948OfhVvAy3Nn'"
   ]
  },
  {
   "cell_type": "code",
   "execution_count": null,
   "id": "b7bbdf66-88e0-4467-808a-62396b0a0e10",
   "metadata": {},
   "outputs": [],
   "source": [
    "discography(perfume)"
   ]
  },
  {
   "cell_type": "code",
   "execution_count": null,
   "id": "bd00beec-01ae-4f36-98cb-4bae71090a17",
   "metadata": {},
   "outputs": [],
   "source": [
    "ethel = '0avMDS4HyoCEP6RqZJWpY2'"
   ]
  },
  {
   "cell_type": "code",
   "execution_count": null,
   "id": "f02ba5d7-0b15-436b-9ba8-4cf9d19cfdf9",
   "metadata": {},
   "outputs": [],
   "source": [
    "discography(ethel)"
   ]
  },
  {
   "cell_type": "code",
   "execution_count": null,
   "id": "ed3d90d9-ed03-4d63-8d64-8287cda9cf84",
   "metadata": {},
   "outputs": [],
   "source": [
    "charli = '25uiPmTg16RbhZWAqwLBy5'"
   ]
  },
  {
   "cell_type": "code",
   "execution_count": null,
   "id": "a36a3701-6c7c-4461-8d57-53479afed7cc",
   "metadata": {},
   "outputs": [],
   "source": [
    "discography(charli)"
   ]
  },
  {
   "cell_type": "code",
   "execution_count": null,
   "id": "1e68139f-6139-4960-94cf-6f805b487247",
   "metadata": {},
   "outputs": [],
   "source": [
    "taylor = '06HL4z0CvFAxyc27GXpf02'"
   ]
  },
  {
   "cell_type": "code",
   "execution_count": null,
   "id": "f17e55fc-1dcb-41c4-9ef1-f3a4ad8dce05",
   "metadata": {},
   "outputs": [],
   "source": [
    "discography(taylor)"
   ]
  },
  {
   "cell_type": "code",
   "execution_count": null,
   "id": "48f55c66-c730-4992-838e-1b7115a24107",
   "metadata": {},
   "outputs": [],
   "source": [
    "phoebe = '1r1uxoy19fzMxunt3ONAkG'"
   ]
  },
  {
   "cell_type": "code",
   "execution_count": null,
   "id": "a9e2bc1f-85af-41f3-bc42-d7681b5a02a8",
   "metadata": {},
   "outputs": [],
   "source": [
    "discography(phoebe)"
   ]
  },
  {
   "cell_type": "code",
   "execution_count": null,
   "id": "b915d855-09f7-436e-bde1-35a3176add3b",
   "metadata": {},
   "outputs": [],
   "source": [
    "shayli = '5ng9pBhDLyRTvBI79rCk09'"
   ]
  },
  {
   "cell_type": "code",
   "execution_count": null,
   "id": "aea7f12f-25a4-4afe-9197-7a92babd1f7e",
   "metadata": {},
   "outputs": [],
   "source": [
    "discography(shayli)"
   ]
  },
  {
   "cell_type": "code",
   "execution_count": null,
   "id": "e5e1f665-e381-48b7-805c-9118b5d16328",
   "metadata": {},
   "outputs": [],
   "source": [
    "julian = '12zbUHbPHL5DGuJtiUfsip'"
   ]
  },
  {
   "cell_type": "code",
   "execution_count": null,
   "id": "59bd78c6-b3b7-4367-b6e9-005f73e440fa",
   "metadata": {},
   "outputs": [],
   "source": [
    "slay = discography(julian)"
   ]
  }
 ],
 "metadata": {
  "kernelspec": {
   "display_name": "Python 3 (ipykernel)",
   "language": "python",
   "name": "python3"
  },
  "language_info": {
   "codemirror_mode": {
    "name": "ipython",
    "version": 3
   },
   "file_extension": ".py",
   "mimetype": "text/x-python",
   "name": "python",
   "nbconvert_exporter": "python",
   "pygments_lexer": "ipython3",
   "version": "3.9.6"
  }
 },
 "nbformat": 4,
 "nbformat_minor": 5
}
